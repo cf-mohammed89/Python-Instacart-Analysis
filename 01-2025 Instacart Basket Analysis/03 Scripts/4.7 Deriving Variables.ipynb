{
 "cells": [
  {
   "cell_type": "markdown",
   "id": "6e5dfd1c-32af-4f82-9fda-e4c074d27750",
   "metadata": {},
   "source": [
    "# 01.Import Libraries"
   ]
  },
  {
   "cell_type": "code",
   "execution_count": 38,
   "id": "68b09707-5b8e-4aac-b4c0-dcffd65314c5",
   "metadata": {},
   "outputs": [],
   "source": [
    "# importing libraries\n",
    "import pandas as pd\n",
    "import numpy as np\n",
    "import os\n",
    "import matplotlib.pyplot as plt\n",
    "import seaborn as sns\n",
    "import scipy"
   ]
  },
  {
   "cell_type": "markdown",
   "id": "52801859-c19d-44bc-911d-353b02a0c14f",
   "metadata": {},
   "source": [
    "# 02. import data"
   ]
  },
  {
   "cell_type": "code",
   "execution_count": 5,
   "id": "d4ddfa21-d4f3-4117-9252-2be126d1d3b9",
   "metadata": {},
   "outputs": [],
   "source": [
    "#Setting file path\n",
    "path = r'/Users/mohammedRusso/Documents/DATA_ANALYST_COURSE/DATA_Immersion_Submissions/Assingment 4/01-2025 Instacart Basket Analysis'"
   ]
  },
  {
   "cell_type": "code",
   "execution_count": 7,
   "id": "2b815866-43d4-447b-be95-b060b3909bca",
   "metadata": {},
   "outputs": [],
   "source": [
    "# Imporitng data\n",
    "ords_prods_merge = pd.read_pickle(os.path.join(path, '02 Data', 'prepared Data', 'orders_products_merged.pkl'))"
   ]
  },
  {
   "cell_type": "markdown",
   "id": "0f9ca71c-2a9f-4d3d-bc72-75fc39c92dd1",
   "metadata": {},
   "source": [
    "# 03. Data Deriving"
   ]
  },
  {
   "cell_type": "code",
   "execution_count": 10,
   "id": "7d48f150-cb12-4ccb-a169-e7dda7214db9",
   "metadata": {},
   "outputs": [],
   "source": [
    "# define function\n",
    "def add_num(x,y):\n",
    "    sum = x + y\n",
    "    return sum"
   ]
  },
  {
   "cell_type": "code",
   "execution_count": 12,
   "id": "89c5afb1-dfa6-4cc8-8351-1748e13d0d35",
   "metadata": {},
   "outputs": [
    {
     "data": {
      "text/plain": [
       "20"
      ]
     },
     "execution_count": 12,
     "metadata": {},
     "output_type": "execute_result"
    }
   ],
   "source": [
    "# run function\n",
    "add_num(9, 11)"
   ]
  },
  {
   "cell_type": "code",
   "execution_count": 14,
   "id": "a5172dcf-4e48-4ecb-a6bb-1e0801d557af",
   "metadata": {
    "scrolled": true
   },
   "outputs": [
    {
     "data": {
      "text/html": [
       "<div>\n",
       "<style scoped>\n",
       "    .dataframe tbody tr th:only-of-type {\n",
       "        vertical-align: middle;\n",
       "    }\n",
       "\n",
       "    .dataframe tbody tr th {\n",
       "        vertical-align: top;\n",
       "    }\n",
       "\n",
       "    .dataframe thead th {\n",
       "        text-align: right;\n",
       "    }\n",
       "</style>\n",
       "<table border=\"1\" class=\"dataframe\">\n",
       "  <thead>\n",
       "    <tr style=\"text-align: right;\">\n",
       "      <th></th>\n",
       "      <th>order_id</th>\n",
       "      <th>user_id</th>\n",
       "      <th>order_number</th>\n",
       "      <th>orders_day_of_week</th>\n",
       "      <th>order_hour_of_day</th>\n",
       "      <th>days_since_prior_order</th>\n",
       "      <th>product_id</th>\n",
       "      <th>add_to_cart_order</th>\n",
       "      <th>reordered</th>\n",
       "      <th>product_name</th>\n",
       "      <th>aisle_id</th>\n",
       "      <th>department_id</th>\n",
       "      <th>prices</th>\n",
       "      <th>match</th>\n",
       "    </tr>\n",
       "  </thead>\n",
       "  <tbody>\n",
       "    <tr>\n",
       "      <th>0</th>\n",
       "      <td>2539329</td>\n",
       "      <td>1</td>\n",
       "      <td>1</td>\n",
       "      <td>2</td>\n",
       "      <td>8</td>\n",
       "      <td>NaN</td>\n",
       "      <td>196</td>\n",
       "      <td>1</td>\n",
       "      <td>0</td>\n",
       "      <td>Soda</td>\n",
       "      <td>77</td>\n",
       "      <td>7</td>\n",
       "      <td>9.0</td>\n",
       "      <td>both</td>\n",
       "    </tr>\n",
       "    <tr>\n",
       "      <th>1</th>\n",
       "      <td>2539329</td>\n",
       "      <td>1</td>\n",
       "      <td>1</td>\n",
       "      <td>2</td>\n",
       "      <td>8</td>\n",
       "      <td>NaN</td>\n",
       "      <td>14084</td>\n",
       "      <td>2</td>\n",
       "      <td>0</td>\n",
       "      <td>Organic Unsweetened Vanilla Almond Milk</td>\n",
       "      <td>91</td>\n",
       "      <td>16</td>\n",
       "      <td>12.5</td>\n",
       "      <td>both</td>\n",
       "    </tr>\n",
       "    <tr>\n",
       "      <th>2</th>\n",
       "      <td>2539329</td>\n",
       "      <td>1</td>\n",
       "      <td>1</td>\n",
       "      <td>2</td>\n",
       "      <td>8</td>\n",
       "      <td>NaN</td>\n",
       "      <td>12427</td>\n",
       "      <td>3</td>\n",
       "      <td>0</td>\n",
       "      <td>Original Beef Jerky</td>\n",
       "      <td>23</td>\n",
       "      <td>19</td>\n",
       "      <td>4.4</td>\n",
       "      <td>both</td>\n",
       "    </tr>\n",
       "    <tr>\n",
       "      <th>3</th>\n",
       "      <td>2539329</td>\n",
       "      <td>1</td>\n",
       "      <td>1</td>\n",
       "      <td>2</td>\n",
       "      <td>8</td>\n",
       "      <td>NaN</td>\n",
       "      <td>26088</td>\n",
       "      <td>4</td>\n",
       "      <td>0</td>\n",
       "      <td>Aged White Cheddar Popcorn</td>\n",
       "      <td>23</td>\n",
       "      <td>19</td>\n",
       "      <td>4.7</td>\n",
       "      <td>both</td>\n",
       "    </tr>\n",
       "    <tr>\n",
       "      <th>4</th>\n",
       "      <td>2539329</td>\n",
       "      <td>1</td>\n",
       "      <td>1</td>\n",
       "      <td>2</td>\n",
       "      <td>8</td>\n",
       "      <td>NaN</td>\n",
       "      <td>26405</td>\n",
       "      <td>5</td>\n",
       "      <td>0</td>\n",
       "      <td>XL Pick-A-Size Paper Towel Rolls</td>\n",
       "      <td>54</td>\n",
       "      <td>17</td>\n",
       "      <td>1.0</td>\n",
       "      <td>both</td>\n",
       "    </tr>\n",
       "  </tbody>\n",
       "</table>\n",
       "</div>"
      ],
      "text/plain": [
       "   order_id  user_id  order_number  orders_day_of_week  order_hour_of_day  \\\n",
       "0   2539329        1             1                   2                  8   \n",
       "1   2539329        1             1                   2                  8   \n",
       "2   2539329        1             1                   2                  8   \n",
       "3   2539329        1             1                   2                  8   \n",
       "4   2539329        1             1                   2                  8   \n",
       "\n",
       "   days_since_prior_order  product_id  add_to_cart_order  reordered  \\\n",
       "0                     NaN         196                  1          0   \n",
       "1                     NaN       14084                  2          0   \n",
       "2                     NaN       12427                  3          0   \n",
       "3                     NaN       26088                  4          0   \n",
       "4                     NaN       26405                  5          0   \n",
       "\n",
       "                              product_name  aisle_id  department_id  prices  \\\n",
       "0                                     Soda        77              7     9.0   \n",
       "1  Organic Unsweetened Vanilla Almond Milk        91             16    12.5   \n",
       "2                      Original Beef Jerky        23             19     4.4   \n",
       "3               Aged White Cheddar Popcorn        23             19     4.7   \n",
       "4         XL Pick-A-Size Paper Towel Rolls        54             17     1.0   \n",
       "\n",
       "  match  \n",
       "0  both  \n",
       "1  both  \n",
       "2  both  \n",
       "3  both  \n",
       "4  both  "
      ]
     },
     "execution_count": 14,
     "metadata": {},
     "output_type": "execute_result"
    }
   ],
   "source": [
    "ords_prods_merge.head()"
   ]
  },
  {
   "cell_type": "code",
   "execution_count": 16,
   "id": "e54f5d0e-cc84-4107-89d3-af374cb4618e",
   "metadata": {},
   "outputs": [],
   "source": [
    "ords_prods_merge = ords_prods_merge.sort_values('product_name')"
   ]
  },
  {
   "cell_type": "code",
   "execution_count": 17,
   "id": "85a59654-f84b-4f10-a5d7-da031db3a60e",
   "metadata": {},
   "outputs": [
    {
     "data": {
      "text/plain": [
       "(32404859, 14)"
      ]
     },
     "execution_count": 17,
     "metadata": {},
     "output_type": "execute_result"
    }
   ],
   "source": [
    "ords_prods_merge.shape"
   ]
  },
  {
   "cell_type": "code",
   "execution_count": 20,
   "id": "3d15ee8a-3af2-444d-af50-7b4c715ab729",
   "metadata": {},
   "outputs": [],
   "source": [
    "df = ords_prods_merge[:1000000]"
   ]
  },
  {
   "cell_type": "markdown",
   "id": "51b6d368-b0c9-4f1f-9d1b-234271b8f14f",
   "metadata": {},
   "source": [
    "# 04. User defined If Statement"
   ]
  },
  {
   "cell_type": "code",
   "execution_count": 23,
   "id": "41164887-bb07-4500-89f0-3370adb9b6a1",
   "metadata": {},
   "outputs": [],
   "source": [
    "def price_label(row):\n",
    "\n",
    "    if row['prices'] <=5:\n",
    "        return 'Low-range product'\n",
    "    elif (row['prices'] >5) and (row['prices'] <=15):\n",
    "        return 'Mid-range product'\n",
    "    elif row['prices'] > 15:\n",
    "        return 'High range'\n",
    "    else: return 'Not enough data'"
   ]
  },
  {
   "cell_type": "code",
   "execution_count": 25,
   "id": "b0eea42d-7fbc-4ee2-998f-396523980862",
   "metadata": {},
   "outputs": [
    {
     "name": "stderr",
     "output_type": "stream",
     "text": [
      "/var/folders/d6/b55202qs51369fgxv1dvzry80000gn/T/ipykernel_24961/2848743372.py:1: SettingWithCopyWarning: \n",
      "A value is trying to be set on a copy of a slice from a DataFrame.\n",
      "Try using .loc[row_indexer,col_indexer] = value instead\n",
      "\n",
      "See the caveats in the documentation: https://pandas.pydata.org/pandas-docs/stable/user_guide/indexing.html#returning-a-view-versus-a-copy\n",
      "  df['price_range'] = df.apply(price_label, axis=1)\n"
     ]
    }
   ],
   "source": [
    "df['price_range'] = df.apply(price_label, axis=1)"
   ]
  },
  {
   "cell_type": "code",
   "execution_count": 22,
   "id": "3cb642f5-0a42-456a-a2ef-3eddcc4fba12",
   "metadata": {},
   "outputs": [
    {
     "data": {
      "text/plain": [
       "price_range\n",
       "Mid-range product    662644\n",
       "Low-range product    301666\n",
       "High range            35690\n",
       "Name: count, dtype: int64"
      ]
     },
     "execution_count": 22,
     "metadata": {},
     "output_type": "execute_result"
    }
   ],
   "source": [
    "df['price_range'].value_counts(dropna = False)"
   ]
  },
  {
   "cell_type": "code",
   "execution_count": 24,
   "id": "4e593a4a-d77a-4123-b989-5d7c0ec3d159",
   "metadata": {},
   "outputs": [
    {
     "data": {
      "text/plain": [
       "(1000000, 15)"
      ]
     },
     "execution_count": 24,
     "metadata": {},
     "output_type": "execute_result"
    }
   ],
   "source": [
    "df.shape"
   ]
  },
  {
   "cell_type": "code",
   "execution_count": 26,
   "id": "d4f4fedf-fd1b-44a5-8746-35016fc2a74f",
   "metadata": {},
   "outputs": [
    {
     "data": {
      "text/plain": [
       "99999.0"
      ]
     },
     "execution_count": 26,
     "metadata": {},
     "output_type": "execute_result"
    }
   ],
   "source": [
    "df['prices'].max()"
   ]
  },
  {
   "cell_type": "code",
   "execution_count": 28,
   "id": "095c6c1b-11b8-4bb4-bc74-921d412bae10",
   "metadata": {},
   "outputs": [],
   "source": [
    "df = ords_prods_merge[:10000000]"
   ]
  },
  {
   "cell_type": "code",
   "execution_count": 30,
   "id": "23d9c0f0-b466-47e8-9a83-064a9ee24cac",
   "metadata": {},
   "outputs": [
    {
     "data": {
      "text/plain": [
       "(10000000, 14)"
      ]
     },
     "execution_count": 30,
     "metadata": {},
     "output_type": "execute_result"
    }
   ],
   "source": [
    "df.shape"
   ]
  },
  {
   "cell_type": "code",
   "execution_count": 32,
   "id": "4d42e8fd-926b-47fa-bbe4-03c6d3c40f29",
   "metadata": {},
   "outputs": [
    {
     "name": "stderr",
     "output_type": "stream",
     "text": [
      "/var/folders/d6/b55202qs51369fgxv1dvzry80000gn/T/ipykernel_72038/2848743372.py:1: SettingWithCopyWarning: \n",
      "A value is trying to be set on a copy of a slice from a DataFrame.\n",
      "Try using .loc[row_indexer,col_indexer] = value instead\n",
      "\n",
      "See the caveats in the documentation: https://pandas.pydata.org/pandas-docs/stable/user_guide/indexing.html#returning-a-view-versus-a-copy\n",
      "  df['price_range'] = df.apply(price_label, axis=1)\n"
     ]
    }
   ],
   "source": [
    "df['price_range'] = df.apply(price_label, axis=1)"
   ]
  },
  {
   "cell_type": "code",
   "execution_count": 34,
   "id": "bca953f4-c1b5-43e4-aded-929bafacc45e",
   "metadata": {},
   "outputs": [
    {
     "data": {
      "text/plain": [
       "price_range\n",
       "Mid-range product    7004354\n",
       "Low-range product    2788919\n",
       "High range            206727\n",
       "Name: count, dtype: int64"
      ]
     },
     "execution_count": 34,
     "metadata": {},
     "output_type": "execute_result"
    }
   ],
   "source": [
    "df['price_range'].value_counts(dropna = False)"
   ]
  },
  {
   "cell_type": "code",
   "execution_count": 36,
   "id": "9d730df6-2611-4402-ab89-c4dd4b12c4a5",
   "metadata": {},
   "outputs": [
    {
     "data": {
      "text/plain": [
       "(10000000, 15)"
      ]
     },
     "execution_count": 36,
     "metadata": {},
     "output_type": "execute_result"
    }
   ],
   "source": [
    "df.shape"
   ]
  },
  {
   "cell_type": "markdown",
   "id": "3f589ff8-d295-4d53-832c-88fd42b0ccc4",
   "metadata": {},
   "source": [
    "# 05. If-Statements with the loc() Function"
   ]
  },
  {
   "cell_type": "code",
   "execution_count": 39,
   "id": "b0b3452f-492b-41b5-bded-853e2bc06e4a",
   "metadata": {},
   "outputs": [
    {
     "name": "stderr",
     "output_type": "stream",
     "text": [
      "/var/folders/d6/b55202qs51369fgxv1dvzry80000gn/T/ipykernel_72038/1169838859.py:1: SettingWithCopyWarning: \n",
      "A value is trying to be set on a copy of a slice from a DataFrame.\n",
      "Try using .loc[row_indexer,col_indexer] = value instead\n",
      "\n",
      "See the caveats in the documentation: https://pandas.pydata.org/pandas-docs/stable/user_guide/indexing.html#returning-a-view-versus-a-copy\n",
      "  df.loc[df['prices'] > 15, 'price_range_loc'] = 'High-range product'\n"
     ]
    }
   ],
   "source": [
    "df.loc[df['prices'] > 15, 'price_range_loc'] = 'High-range product'"
   ]
  },
  {
   "cell_type": "code",
   "execution_count": 41,
   "id": "b2e85fc2-2c47-41de-8c62-4e7627c7898d",
   "metadata": {},
   "outputs": [],
   "source": [
    "df.loc[(df['prices'] <= 15) & (df['prices'] > 5), 'price_range_loc'] = 'Mid-range product'"
   ]
  },
  {
   "cell_type": "code",
   "execution_count": 43,
   "id": "d22e8533-9fdb-4298-a788-aaf98b639e28",
   "metadata": {},
   "outputs": [],
   "source": [
    "df.loc[df['prices'] <= 5, 'price_range_loc'] = 'Low-range product'"
   ]
  },
  {
   "cell_type": "code",
   "execution_count": 45,
   "id": "2a694713-dc0b-40f8-9e3f-e87b24a02db8",
   "metadata": {},
   "outputs": [
    {
     "data": {
      "text/plain": [
       "price_range_loc\n",
       "Mid-range product     7004354\n",
       "Low-range product     2788919\n",
       "High-range product     206727\n",
       "Name: count, dtype: int64"
      ]
     },
     "execution_count": 45,
     "metadata": {},
     "output_type": "execute_result"
    }
   ],
   "source": [
    "df['price_range_loc'].value_counts(dropna = False)"
   ]
  },
  {
   "cell_type": "code",
   "execution_count": 47,
   "id": "b0f086bc-4a89-44c5-9118-1bdc60912fbe",
   "metadata": {},
   "outputs": [
    {
     "data": {
      "text/plain": [
       "(32404859, 14)"
      ]
     },
     "execution_count": 47,
     "metadata": {},
     "output_type": "execute_result"
    }
   ],
   "source": [
    "ords_prods_merge.shape"
   ]
  },
  {
   "cell_type": "code",
   "execution_count": 49,
   "id": "a81badda-2dbd-457c-92d2-77ee3e3373a2",
   "metadata": {},
   "outputs": [],
   "source": [
    "ords_prods_merge.loc[ords_prods_merge['prices'] > 15, 'price_range_loc'] = 'High-range product'"
   ]
  },
  {
   "cell_type": "code",
   "execution_count": 50,
   "id": "56e839c2-d432-4551-8d57-837c7d74eb1e",
   "metadata": {},
   "outputs": [],
   "source": [
    "ords_prods_merge.loc[(ords_prods_merge['prices'] <= 15) & (ords_prods_merge['prices'] >5), 'price_range_loc'] = 'Mid-range product'"
   ]
  },
  {
   "cell_type": "code",
   "execution_count": 51,
   "id": "c82a7387-994f-4d49-90c4-e57fddbdb3a3",
   "metadata": {},
   "outputs": [],
   "source": [
    "ords_prods_merge.loc[ords_prods_merge['prices'] <=5, 'price_range_loc'] = 'Low-range product'"
   ]
  },
  {
   "cell_type": "code",
   "execution_count": 55,
   "id": "25599125-2357-43b6-b84a-1e02c0cbdf6a",
   "metadata": {},
   "outputs": [
    {
     "data": {
      "text/plain": [
       "price_range_loc\n",
       "Mid-range product     21860860\n",
       "Low-range product     10126321\n",
       "High-range product      417678\n",
       "Name: count, dtype: int64"
      ]
     },
     "execution_count": 55,
     "metadata": {},
     "output_type": "execute_result"
    }
   ],
   "source": [
    "ords_prods_merge['price_range_loc'].value_counts(dropna = False)"
   ]
  },
  {
   "cell_type": "markdown",
   "id": "386924e7-bb34-4a29-ba90-d14ce7a960fb",
   "metadata": {},
   "source": [
    "# 06. If-Statements with For-Loops"
   ]
  },
  {
   "cell_type": "code",
   "execution_count": 58,
   "id": "7f869a4b-2c3b-495c-943c-3b4cb89ac392",
   "metadata": {},
   "outputs": [
    {
     "name": "stdout",
     "output_type": "stream",
     "text": [
      "My age is 30\n",
      "My age is 31\n",
      "My age is 32\n",
      "My age is 33\n",
      "My age is 34\n",
      "My age is 35\n",
      "My age is 36\n",
      "My age is 37\n",
      "My age is 38\n",
      "My age is 39\n",
      "My age is 40\n",
      "My age is 41\n",
      "My age is 42\n",
      "My age is 43\n",
      "My age is 44\n"
     ]
    }
   ],
   "source": [
    "for x in range(30,45):\n",
    "    print(\"My age is %d\" % (x))"
   ]
  },
  {
   "cell_type": "code",
   "execution_count": 60,
   "id": "8700463e-03c5-48cb-94f0-5021beb605a4",
   "metadata": {},
   "outputs": [
    {
     "data": {
      "text/plain": [
       "orders_day_of_week\n",
       "0    6204182\n",
       "1    5660230\n",
       "6    4496490\n",
       "2    4213830\n",
       "5    4205791\n",
       "3    3840534\n",
       "4    3783802\n",
       "Name: count, dtype: int64"
      ]
     },
     "execution_count": 60,
     "metadata": {},
     "output_type": "execute_result"
    }
   ],
   "source": [
    "#which day most orders take place\n",
    "ords_prods_merge['orders_day_of_week'].value_counts(dropna = False)"
   ]
  },
  {
   "cell_type": "code",
   "execution_count": 62,
   "id": "59c6c9a3-3506-4cf2-9a9d-5b939cdc52ca",
   "metadata": {},
   "outputs": [],
   "source": [
    "# for loop to check how many rows have busiest days, least busy days and regular days\n",
    "result = []\n",
    "\n",
    "for value in ords_prods_merge[\"orders_day_of_week\"]:\n",
    "    if value == 0:\n",
    "        result.append(\"Busiest day\")\n",
    "    elif value == 4:\n",
    "        result.append(\"least busy\")\n",
    "    else:\n",
    "        result.append(\"Regular busy\")"
   ]
  },
  {
   "cell_type": "code",
   "execution_count": 63,
   "id": "9cb63e18-5ebb-496d-91c0-e337912c62a0",
   "metadata": {},
   "outputs": [],
   "source": [
    "ords_prods_merge['busiest_day'] = result"
   ]
  },
  {
   "cell_type": "code",
   "execution_count": 64,
   "id": "70f39126-3d78-4c36-967d-af69b4016038",
   "metadata": {},
   "outputs": [
    {
     "data": {
      "text/plain": [
       "busiest_day\n",
       "Regular busy    22416875\n",
       "Busiest day      6204182\n",
       "least busy       3783802\n",
       "Name: count, dtype: int64"
      ]
     },
     "execution_count": 64,
     "metadata": {},
     "output_type": "execute_result"
    }
   ],
   "source": [
    "ords_prods_merge['busiest_day'].value_counts(dropna = False)"
   ]
  },
  {
   "cell_type": "code",
   "execution_count": null,
   "id": "89240460-00db-434f-8e94-65825c2db161",
   "metadata": {},
   "outputs": [],
   "source": []
  },
  {
   "cell_type": "code",
   "execution_count": null,
   "id": "43ca69f1-e540-4d71-bd28-10608b78217c",
   "metadata": {},
   "outputs": [],
   "source": []
  },
  {
   "cell_type": "code",
   "execution_count": 70,
   "id": "c617375b-2eed-471b-8184-5d563fe92b99",
   "metadata": {},
   "outputs": [
    {
     "data": {
      "text/plain": [
       "([<matplotlib.axis.XTick at 0x13f4bbc80>,\n",
       "  <matplotlib.axis.XTick at 0x13f37e3f0>,\n",
       "  <matplotlib.axis.XTick at 0x13f41b470>,\n",
       "  <matplotlib.axis.XTick at 0x13f4188c0>,\n",
       "  <matplotlib.axis.XTick at 0x13f419fd0>,\n",
       "  <matplotlib.axis.XTick at 0x13f4185c0>,\n",
       "  <matplotlib.axis.XTick at 0x13f3a4bf0>],\n",
       " [Text(0, 0, 'Sunday'),\n",
       "  Text(1, 0, 'Monday'),\n",
       "  Text(2, 0, 'Tuesday'),\n",
       "  Text(3, 0, 'Wednesday'),\n",
       "  Text(4, 0, 'Thursday'),\n",
       "  Text(5, 0, 'Friday'),\n",
       "  Text(6, 0, 'Saturday')])"
      ]
     },
     "execution_count": 70,
     "metadata": {},
     "output_type": "execute_result"
    },
    {
     "data": {
      "image/png": "[encoded data removed]",
      "text/plain": [
       "<Figure size 640x480 with 1 Axes>"
      ]
     },
     "metadata": {},
     "output_type": "display_data"
    }
   ],
   "source": [
    "colors = ['olive','darkkhaki','palegoldenrod','khaki','gold','orange','darkorange','peru','sienna','saddlebrown']\n",
    "\n",
    "# Create a bar chart showing busiest days of the week\n",
    "order_day_bar = ords_prods_merge['orders_day_of_week'].value_counts().sort_index().plot.bar(color=colors)\n",
    "\n",
    "# Set up grid line\n",
    "plt.gca().set_axisbelow(True)\n",
    "plt.grid(axis='y', color='lightgray', linestyle='dashed')\n",
    "\n",
    "\n",
    "# Formatting\n",
    "plt.title('No. of Orders by Day of Week')\n",
    "plt.xticks(rotation=0,fontsize=10)\n",
    "plt.tight_layout()\n",
    "plt.ylabel('No. of Orders')\n",
    "plt.yticks(np.arange(0,8000000,2000000),\n",
    "           [int(value) if np.floor(value)==value else value for value in np.arange(0,8000000,2000000)])\n",
    "plt.xticks([0,1,2,3,4,5,6],['Sunday','Monday', 'Tuesday', 'Wednesday', 'Thursday', 'Friday','Saturday'], rotation=0)"
   ]
  },
  {
   "cell_type": "markdown",
   "id": "1b017f7e-9156-416b-9eba-d332dbb2badb",
   "metadata": {},
   "source": [
    "# 4.7 Task"
   ]
  },
  {
   "cell_type": "code",
   "execution_count": 69,
   "id": "0b7a8090-d388-4d86-806a-862db8eb0f23",
   "metadata": {},
   "outputs": [
    {
     "data": {
      "text/plain": [
       "orders_day_of_week\n",
       "0    6204182\n",
       "1    5660230\n",
       "6    4496490\n",
       "2    4213830\n",
       "5    4205791\n",
       "3    3840534\n",
       "4    3783802\n",
       "Name: count, dtype: int64"
      ]
     },
     "execution_count": 69,
     "metadata": {},
     "output_type": "execute_result"
    }
   ],
   "source": [
    "# Question 2\n",
    "\n",
    "#which day most orders take place\n",
    "ords_prods_merge['orders_day_of_week'].value_counts(dropna = False)"
   ]
  },
  {
   "cell_type": "code",
   "execution_count": 71,
   "id": "9105e565-c778-4a3b-baad-576b13bf2fce",
   "metadata": {},
   "outputs": [],
   "source": [
    "# Function to check 2 busiest days of the week\n",
    "ords_prods_merge.loc[ords_prods_merge['orders_day_of_week'].isin([0,1]), 'busiest_days'] = 'Two busiest Days'"
   ]
  },
  {
   "cell_type": "code",
   "execution_count": 72,
   "id": "2ceeda33-188c-4669-b2a4-035128b47c34",
   "metadata": {},
   "outputs": [],
   "source": [
    "ords_prods_merge.loc[ords_prods_merge['orders_day_of_week'].isin([3,4]), 'busiest_days'] = 'Two slowest Days'"
   ]
  },
  {
   "cell_type": "code",
   "execution_count": 73,
   "id": "be609aa6-8e1d-419a-b390-ecc5a1ab7727",
   "metadata": {},
   "outputs": [],
   "source": [
    "ords_prods_merge.loc[ords_prods_merge['orders_day_of_week'].isin([6,2,5]), 'busiest_days'] = 'Regular Days'"
   ]
  },
  {
   "cell_type": "code",
   "execution_count": 77,
   "id": "9151e383-7ffe-40b6-acd0-3b29e1a269a1",
   "metadata": {},
   "outputs": [
    {
     "data": {
      "text/plain": [
       "busiest_days\n",
       "Regular Days        12916111\n",
       "Two busiest Days    11864412\n",
       "Two slowest Days     7624336\n",
       "Name: count, dtype: int64"
      ]
     },
     "execution_count": 77,
     "metadata": {},
     "output_type": "execute_result"
    }
   ],
   "source": [
    "# Question 3\n",
    "ords_prods_merge['busiest_days'].value_counts(dropna = False)"
   ]
  },
  {
   "cell_type": "code",
   "execution_count": 79,
   "id": "70b1da86-5a61-4b14-8b7c-d29f1b34f028",
   "metadata": {},
   "outputs": [
    {
     "data": {
      "text/html": [
       "<div>\n",
       "<style scoped>\n",
       "    .dataframe tbody tr th:only-of-type {\n",
       "        vertical-align: middle;\n",
       "    }\n",
       "\n",
       "    .dataframe tbody tr th {\n",
       "        vertical-align: top;\n",
       "    }\n",
       "\n",
       "    .dataframe thead th {\n",
       "        text-align: right;\n",
       "    }\n",
       "</style>\n",
       "<table border=\"1\" class=\"dataframe\">\n",
       "  <thead>\n",
       "    <tr style=\"text-align: right;\">\n",
       "      <th></th>\n",
       "      <th>order_id</th>\n",
       "      <th>user_id</th>\n",
       "      <th>order_number</th>\n",
       "      <th>orders_day_of_week</th>\n",
       "      <th>order_hour_of_day</th>\n",
       "      <th>days_since_prior_order</th>\n",
       "      <th>product_id</th>\n",
       "      <th>add_to_cart_order</th>\n",
       "      <th>reordered</th>\n",
       "      <th>product_name</th>\n",
       "      <th>aisle_id</th>\n",
       "      <th>department_id</th>\n",
       "      <th>prices</th>\n",
       "      <th>match</th>\n",
       "      <th>price_range_loc</th>\n",
       "      <th>busiest_day</th>\n",
       "      <th>busiest_days</th>\n",
       "    </tr>\n",
       "  </thead>\n",
       "  <tbody>\n",
       "    <tr>\n",
       "      <th>30885513</th>\n",
       "      <td>1888640</td>\n",
       "      <td>196356</td>\n",
       "      <td>14</td>\n",
       "      <td>2</td>\n",
       "      <td>0</td>\n",
       "      <td>12.0</td>\n",
       "      <td>25773</td>\n",
       "      <td>23</td>\n",
       "      <td>0</td>\n",
       "      <td>#2 Coffee Filters</td>\n",
       "      <td>26</td>\n",
       "      <td>7</td>\n",
       "      <td>11.0</td>\n",
       "      <td>both</td>\n",
       "      <td>Mid-range product</td>\n",
       "      <td>Regular busy</td>\n",
       "      <td>Regular Days</td>\n",
       "    </tr>\n",
       "    <tr>\n",
       "      <th>10811325</th>\n",
       "      <td>2754998</td>\n",
       "      <td>68576</td>\n",
       "      <td>6</td>\n",
       "      <td>0</td>\n",
       "      <td>8</td>\n",
       "      <td>7.0</td>\n",
       "      <td>25773</td>\n",
       "      <td>16</td>\n",
       "      <td>1</td>\n",
       "      <td>#2 Coffee Filters</td>\n",
       "      <td>26</td>\n",
       "      <td>7</td>\n",
       "      <td>11.0</td>\n",
       "      <td>both</td>\n",
       "      <td>Mid-range product</td>\n",
       "      <td>Busiest day</td>\n",
       "      <td>Two busiest Days</td>\n",
       "    </tr>\n",
       "    <tr>\n",
       "      <th>26539914</th>\n",
       "      <td>3086607</td>\n",
       "      <td>168921</td>\n",
       "      <td>27</td>\n",
       "      <td>2</td>\n",
       "      <td>20</td>\n",
       "      <td>0.0</td>\n",
       "      <td>25773</td>\n",
       "      <td>2</td>\n",
       "      <td>0</td>\n",
       "      <td>#2 Coffee Filters</td>\n",
       "      <td>26</td>\n",
       "      <td>7</td>\n",
       "      <td>11.0</td>\n",
       "      <td>both</td>\n",
       "      <td>Mid-range product</td>\n",
       "      <td>Regular busy</td>\n",
       "      <td>Regular Days</td>\n",
       "    </tr>\n",
       "    <tr>\n",
       "      <th>13922765</th>\n",
       "      <td>429310</td>\n",
       "      <td>88247</td>\n",
       "      <td>2</td>\n",
       "      <td>4</td>\n",
       "      <td>10</td>\n",
       "      <td>8.0</td>\n",
       "      <td>25773</td>\n",
       "      <td>12</td>\n",
       "      <td>0</td>\n",
       "      <td>#2 Coffee Filters</td>\n",
       "      <td>26</td>\n",
       "      <td>7</td>\n",
       "      <td>11.0</td>\n",
       "      <td>both</td>\n",
       "      <td>Mid-range product</td>\n",
       "      <td>least busy</td>\n",
       "      <td>Two slowest Days</td>\n",
       "    </tr>\n",
       "    <tr>\n",
       "      <th>2470107</th>\n",
       "      <td>1836950</td>\n",
       "      <td>15906</td>\n",
       "      <td>2</td>\n",
       "      <td>3</td>\n",
       "      <td>14</td>\n",
       "      <td>12.0</td>\n",
       "      <td>25773</td>\n",
       "      <td>7</td>\n",
       "      <td>0</td>\n",
       "      <td>#2 Coffee Filters</td>\n",
       "      <td>26</td>\n",
       "      <td>7</td>\n",
       "      <td>11.0</td>\n",
       "      <td>both</td>\n",
       "      <td>Mid-range product</td>\n",
       "      <td>Regular busy</td>\n",
       "      <td>Two slowest Days</td>\n",
       "    </tr>\n",
       "  </tbody>\n",
       "</table>\n",
       "</div>"
      ],
      "text/plain": [
       "          order_id  user_id  order_number  orders_day_of_week  \\\n",
       "30885513   1888640   196356            14                   2   \n",
       "10811325   2754998    68576             6                   0   \n",
       "26539914   3086607   168921            27                   2   \n",
       "13922765    429310    88247             2                   4   \n",
       "2470107    1836950    15906             2                   3   \n",
       "\n",
       "          order_hour_of_day  days_since_prior_order  product_id  \\\n",
       "30885513                  0                    12.0       25773   \n",
       "10811325                  8                     7.0       25773   \n",
       "26539914                 20                     0.0       25773   \n",
       "13922765                 10                     8.0       25773   \n",
       "2470107                  14                    12.0       25773   \n",
       "\n",
       "          add_to_cart_order  reordered       product_name  aisle_id  \\\n",
       "30885513                 23          0  #2 Coffee Filters        26   \n",
       "10811325                 16          1  #2 Coffee Filters        26   \n",
       "26539914                  2          0  #2 Coffee Filters        26   \n",
       "13922765                 12          0  #2 Coffee Filters        26   \n",
       "2470107                   7          0  #2 Coffee Filters        26   \n",
       "\n",
       "          department_id  prices match    price_range_loc   busiest_day  \\\n",
       "30885513              7    11.0  both  Mid-range product  Regular busy   \n",
       "10811325              7    11.0  both  Mid-range product   Busiest day   \n",
       "26539914              7    11.0  both  Mid-range product  Regular busy   \n",
       "13922765              7    11.0  both  Mid-range product    least busy   \n",
       "2470107               7    11.0  both  Mid-range product  Regular busy   \n",
       "\n",
       "              busiest_days  \n",
       "30885513      Regular Days  \n",
       "10811325  Two busiest Days  \n",
       "26539914      Regular Days  \n",
       "13922765  Two slowest Days  \n",
       "2470107   Two slowest Days  "
      ]
     },
     "execution_count": 79,
     "metadata": {},
     "output_type": "execute_result"
    }
   ],
   "source": [
    "# Question 4\n",
    "ords_prods_merge.head()"
   ]
  },
  {
   "cell_type": "code",
   "execution_count": 81,
   "id": "c8b7b5a6-c530-4537-82a3-598968e7e594",
   "metadata": {},
   "outputs": [
    {
     "data": {
      "text/plain": [
       "order_hour_of_day\n",
       "10    2761760\n",
       "11    2736140\n",
       "14    2689136\n",
       "15    2662144\n",
       "13    2660954\n",
       "12    2618532\n",
       "16    2535202\n",
       "9     2454203\n",
       "17    2087654\n",
       "8     1718118\n",
       "18    1636502\n",
       "19    1258305\n",
       "20     976156\n",
       "7      891054\n",
       "21     795637\n",
       "22     634225\n",
       "23     402316\n",
       "6      290493\n",
       "0      218769\n",
       "1      115700\n",
       "5       87961\n",
       "2       69375\n",
       "4       53242\n",
       "3       51281\n",
       "Name: count, dtype: int64"
      ]
     },
     "execution_count": 81,
     "metadata": {},
     "output_type": "execute_result"
    }
   ],
   "source": [
    "# Checking value counts on order_hour_of_day column\n",
    "ords_prods_merge['order_hour_of_day'].value_counts(dropna = False)"
   ]
  },
  {
   "cell_type": "code",
   "execution_count": 83,
   "id": "d9719654-4d4f-4618-8c09-26d66cbabc48",
   "metadata": {},
   "outputs": [],
   "source": [
    "#Create a for loop statement labeling time periods as Most orders, fewset orders, average orders\n",
    "result_3 = []\n",
    "for x in ords_prods_merge[\"order_hour_of_day\"]:\n",
    "    if x in[10, 11, 14, 15, 13, 12, 16, 9]:\n",
    "        result_3.append(\"Most orders\")\n",
    "    elif x in[23, 6, 0, 1, 5, 2, 4, 3]:\n",
    "        result_3.append(\"Fewest orders\")\n",
    "    else:\n",
    "        result_3.append(\"Average orders\")\n",
    "    "
   ]
  },
  {
   "cell_type": "code",
   "execution_count": null,
   "id": "ba7b8b2f-f30a-448b-968c-0d22ef0fdd71",
   "metadata": {},
   "outputs": [],
   "source": [
    "result_3"
   ]
  },
  {
   "cell_type": "code",
   "execution_count": 85,
   "id": "8c6798ff-3d4a-4731-9c03-5b268ff72a6d",
   "metadata": {},
   "outputs": [],
   "source": [
    "#Create new column 'busiest_perdiod_of_day'\n",
    "ords_prods_merge['busiest_perdiod_of_day'] = result_3"
   ]
  },
  {
   "cell_type": "code",
   "execution_count": 86,
   "id": "11ab5f01-a721-4ce5-8872-a8af7bf3cdd4",
   "metadata": {},
   "outputs": [
    {
     "data": {
      "text/plain": [
       "busiest_perdiod_of_day\n",
       "Most orders       21118071\n",
       "Average orders     9997651\n",
       "Fewest orders      1289137\n",
       "Name: count, dtype: int64"
      ]
     },
     "execution_count": 86,
     "metadata": {},
     "output_type": "execute_result"
    }
   ],
   "source": [
    "# 5. Print frequency of \"busiest_period_of_day\" column\n",
    "ords_prods_merge['busiest_perdiod_of_day'].value_counts(dropna = False)"
   ]
  },
  {
   "cell_type": "code",
   "execution_count": 89,
   "id": "5f28b12e-6573-4bc8-9281-7dca31b1c74e",
   "metadata": {},
   "outputs": [],
   "source": [
    "#7 Exporting dataframe\n",
    "\n",
    "ords_prods_merge.to_pickle(os.path.join(path, '02 Data', 'Prepared Data', 'ords_prods_merge_dervd.pkl'))"
   ]
  },
  {
   "cell_type": "code",
   "execution_count": 90,
   "id": "34dce3bd-7595-4af9-926c-97a413bbe0c5",
   "metadata": {},
   "outputs": [
    {
     "data": {
      "text/plain": [
       "(32404859, 18)"
      ]
     },
     "execution_count": 90,
     "metadata": {},
     "output_type": "execute_result"
    }
   ],
   "source": [
    "ords_prods_merge.shape"
   ]
  },
  {
   "cell_type": "code",
   "execution_count": null,
   "id": "92818703-9018-4080-8158-c79791b9a5fe",
   "metadata": {},
   "outputs": [],
   "source": []
  }
 ],
 "metadata": {
  "kernelspec": {
   "display_name": "Python [conda env:base] *",
   "language": "python",
   "name": "conda-base-py"
  },
  "language_info": {
   "codemirror_mode": {
    "name": "ipython",
    "version": 3
   },
   "file_extension": ".py",
   "mimetype": "text/x-python",
   "name": "python",
   "nbconvert_exporter": "python",
   "pygments_lexer": "ipython3",
   "version": "3.12.7"
  }
 },
 "nbformat": 4,
 "nbformat_minor": 5
}

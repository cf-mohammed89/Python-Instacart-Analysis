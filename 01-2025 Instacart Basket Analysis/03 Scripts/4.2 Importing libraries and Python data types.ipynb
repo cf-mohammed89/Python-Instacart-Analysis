{
 "cells": [
  {
   "cell_type": "markdown",
   "id": "bf816ebd-3760-406b-9900-05f3300c65c1",
   "metadata": {},
   "source": [
    "# 01 Import libraries"
   ]
  },
  {
   "cell_type": "code",
   "execution_count": 25,
   "id": "37694323-db26-499a-b06e-a1cddd44673a",
   "metadata": {},
   "outputs": [],
   "source": [
    "# Import libraries\n",
    "import pandas as pd\n",
    "import numpy as np\n",
    "import os"
   ]
  },
  {
   "cell_type": "markdown",
   "id": "7d7c13f5-d8b2-472d-8cb1-efd6fce3ecb0",
   "metadata": {},
   "source": [
    "# 02 Data Types"
   ]
  },
  {
   "cell_type": "code",
   "execution_count": 29,
   "id": "a868fa2f-7339-4c43-a97d-814d28e5969e",
   "metadata": {},
   "outputs": [],
   "source": [
    "# code 3 different ways of reaching a result of 100 by adding or subtracting numeric values. \n",
    "x = 99\n",
    "y = 1"
   ]
  },
  {
   "cell_type": "code",
   "execution_count": 32,
   "id": "ca791ac2-5aa8-403c-b49e-17da01eec227",
   "metadata": {},
   "outputs": [
    {
     "data": {
      "text/plain": [
       "100"
      ]
     },
     "execution_count": 32,
     "metadata": {},
     "output_type": "execute_result"
    }
   ],
   "source": [
    "x + y"
   ]
  },
  {
   "cell_type": "code",
   "execution_count": 48,
   "id": "5c1db678-2f75-49ea-a3e0-1723c047e2e9",
   "metadata": {},
   "outputs": [],
   "source": [
    "x = 200\n",
    "y = 100"
   ]
  },
  {
   "cell_type": "code",
   "execution_count": 50,
   "id": "c5660f99-2d12-432d-a746-d89009521218",
   "metadata": {},
   "outputs": [
    {
     "data": {
      "text/plain": [
       "100"
      ]
     },
     "execution_count": 50,
     "metadata": {},
     "output_type": "execute_result"
    }
   ],
   "source": [
    "x - y"
   ]
  },
  {
   "cell_type": "code",
   "execution_count": 42,
   "id": "904b8346-2f50-4a7a-8361-0e0f58db1610",
   "metadata": {},
   "outputs": [],
   "source": [
    "x = 10\n",
    "y = 2"
   ]
  },
  {
   "cell_type": "code",
   "execution_count": 46,
   "id": "109061d9-048e-4f3f-a953-16229f932b77",
   "metadata": {},
   "outputs": [
    {
     "data": {
      "text/plain": [
       "100"
      ]
     },
     "execution_count": 46,
     "metadata": {},
     "output_type": "execute_result"
    }
   ],
   "source": [
    "x ** y"
   ]
  },
  {
   "cell_type": "code",
   "execution_count": 52,
   "id": "a79518a9-8209-4285-b9c0-715899da098f",
   "metadata": {},
   "outputs": [],
   "source": [
    "#code 2 floating-point variables and divide them by each other.\n",
    "a = 25.5\n",
    "b = 12.5"
   ]
  },
  {
   "cell_type": "code",
   "execution_count": 54,
   "id": "80084ff9-07b8-4789-a134-d3e2ef965d73",
   "metadata": {},
   "outputs": [
    {
     "data": {
      "text/plain": [
       "2.04"
      ]
     },
     "execution_count": 54,
     "metadata": {},
     "output_type": "execute_result"
    }
   ],
   "source": [
    "a / b"
   ]
  },
  {
   "cell_type": "code",
   "execution_count": 82,
   "id": "f54a7179-3945-4453-baa9-3b95a9befc00",
   "metadata": {},
   "outputs": [],
   "source": [
    "l = 'learing '\n",
    "p = 'python '"
   ]
  },
  {
   "cell_type": "code",
   "execution_count": 62,
   "id": "6ef2cd36-5412-438f-96f9-8c37d67ad7a4",
   "metadata": {},
   "outputs": [
    {
     "data": {
      "text/plain": [
       "'learing python'"
      ]
     },
     "execution_count": 62,
     "metadata": {},
     "output_type": "execute_result"
    }
   ],
   "source": [
    "l + p"
   ]
  },
  {
   "cell_type": "code",
   "execution_count": 76,
   "id": "6b534e35-5938-4e1c-b71d-6c61cfefb753",
   "metadata": {},
   "outputs": [],
   "source": [
    "s = 'Learning pyhton for data analytics. '\n",
    "d = 'It is a very popular programing language'"
   ]
  },
  {
   "cell_type": "code",
   "execution_count": 78,
   "id": "7cb3667e-9d4e-4ad4-885f-ea5397649e65",
   "metadata": {},
   "outputs": [
    {
     "name": "stdout",
     "output_type": "stream",
     "text": [
      "Learning pyhton for data analytics. It is a very popular programing language\n"
     ]
    }
   ],
   "source": [
    "print (s + d)"
   ]
  },
  {
   "cell_type": "code",
   "execution_count": 84,
   "id": "a81364fa-c0ea-4f8f-94e5-52ec5e5f77b0",
   "metadata": {},
   "outputs": [
    {
     "data": {
      "text/plain": [
       "'python python python python python python python python python python python python python python python python python python python python python python python python python python python python python python python python python python python python python python python python python python python python python python python python python python python python python python python python python python python python python python python python python python python python python python python python python python python python python python python python python python python python python python python python python python python python python python python python python python python python '"
      ]
     },
     "execution_count": 84,
     "metadata": {},
     "output_type": "execute_result"
    }
   ],
   "source": [
    "p * 100"
   ]
  },
  {
   "cell_type": "code",
   "execution_count": null,
   "id": "73821b15-b519-449c-a5f1-f79a69868ec1",
   "metadata": {},
   "outputs": [],
   "source": []
  }
 ],
 "metadata": {
  "kernelspec": {
   "display_name": "Python [conda env:base] *",
   "language": "python",
   "name": "conda-base-py"
  },
  "language_info": {
   "codemirror_mode": {
    "name": "ipython",
    "version": 3
   },
   "file_extension": ".py",
   "mimetype": "text/x-python",
   "name": "python",
   "nbconvert_exporter": "python",
   "pygments_lexer": "ipython3",
   "version": "3.12.7"
  }
 },
 "nbformat": 4,
 "nbformat_minor": 5
}
